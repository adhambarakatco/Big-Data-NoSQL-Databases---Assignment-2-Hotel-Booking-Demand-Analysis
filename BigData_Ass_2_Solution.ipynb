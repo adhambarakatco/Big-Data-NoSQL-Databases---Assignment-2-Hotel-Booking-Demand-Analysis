{
  "nbformat": 4,
  "nbformat_minor": 0,
  "metadata": {
    "colab": {
      "provenance": []
    },
    "kernelspec": {
      "name": "python3",
      "display_name": "Python 3"
    },
    "language_info": {
      "name": "python"
    }
  },
  "cells": [
    {
      "cell_type": "markdown",
      "source": [
        "Install Spark and Java in Google Colab and set Enviroment Variables and Start Spark"
      ],
      "metadata": {
        "id": "RYkCvfLRTJG2"
      }
    },
    {
      "cell_type": "code",
      "source": [
        "# Install Spark and Java (only required in Google Colab)\n",
        "!apt-get install openjdk-11-jdk-headless -qq > /dev/null\n",
        "!wget -q https://downloads.apache.org/spark/spark-3.4.1/spark-3.4.1-bin-hadoop3.tgz\n",
        "!tar xf spark-3.4.1-bin-hadoop3.tgz\n",
        "!pip install -q findspark\n",
        "\n",
        "# Setup environment variables\n",
        "import os\n",
        "os.environ[\"JAVA_HOME\"] = \"/usr/lib/jvm/java-11-openjdk-amd64\"\n",
        "os.environ[\"SPARK_HOME\"] = \"/content/spark-3.4.1-bin-hadoop3\"\n",
        "\n",
        "# Start Spark\n",
        "import findspark\n",
        "findspark.init()\n",
        "\n",
        "from pyspark.sql import SparkSession\n",
        "spark = SparkSession.builder.master(\"local[*]\").appName(\"Hotel Booking Analysis\").getOrCreate()"
      ],
      "metadata": {
        "colab": {
          "base_uri": "https://localhost:8080/"
        },
        "id": "omUgF235QlLU",
        "outputId": "4657cda7-74bb-4efe-93f5-a81ef241ffcf"
      },
      "execution_count": 44,
      "outputs": [
        {
          "output_type": "stream",
          "name": "stdout",
          "text": [
            "tar: spark-3.4.1-bin-hadoop3.tgz: Cannot open: No such file or directory\n",
            "tar: Error is not recoverable: exiting now\n"
          ]
        }
      ]
    },
    {
      "cell_type": "markdown",
      "source": [
        "1. Start Spark Session and Load Dataset\n",
        "\n",
        "\n"
      ],
      "metadata": {
        "id": "Rs_vE6AjOb3K"
      }
    },
    {
      "cell_type": "code",
      "execution_count": 45,
      "metadata": {
        "id": "TgSuHap_OA65"
      },
      "outputs": [],
      "source": [
        "from pyspark.sql import SparkSession\n",
        "\n",
        "# Create a Spark session named \"Hotel Booking Analysis\"\n",
        "spark = SparkSession.builder \\\n",
        "    .appName(\"Hotel Booking Analysis\") \\\n",
        "    .getOrCreate()"
      ]
    },
    {
      "cell_type": "code",
      "source": [
        "# Read the CSV file into a Spark DataFrame\n",
        "# - header=True: use the first row as column names\n",
        "# - inferSchema=True: automatically detect data types for each column\n",
        "df = spark.read.csv(\"egphotelbookings.csv\", header=True, inferSchema=True)\n",
        "\n",
        "# Print the schema of the DataFrame to inspect column names and data types\n",
        "df.printSchema()\n",
        "\n",
        "df.show(5)"
      ],
      "metadata": {
        "colab": {
          "base_uri": "https://localhost:8080/"
        },
        "id": "aBSRIkBzTtE-",
        "outputId": "8b4ec2f2-1e7e-42a2-89a2-b977b26fd539"
      },
      "execution_count": 46,
      "outputs": [
        {
          "output_type": "stream",
          "name": "stdout",
          "text": [
            "root\n",
            " |-- _c0: integer (nullable = true)\n",
            " |-- hotel: string (nullable = true)\n",
            " |-- is_canceled: integer (nullable = true)\n",
            " |-- lead_time: integer (nullable = true)\n",
            " |-- arrival_date_year: integer (nullable = true)\n",
            " |-- arrival_date_month: string (nullable = true)\n",
            " |-- arrival_date_week_number: integer (nullable = true)\n",
            " |-- arrival_date_day_of_month: integer (nullable = true)\n",
            " |-- stays_in_weekend_nights: integer (nullable = true)\n",
            " |-- stays_in_week_nights: integer (nullable = true)\n",
            " |-- adults: integer (nullable = true)\n",
            " |-- children: double (nullable = true)\n",
            " |-- babies: integer (nullable = true)\n",
            " |-- meal: string (nullable = true)\n",
            " |-- country: string (nullable = true)\n",
            " |-- distribution_channel: string (nullable = true)\n",
            " |-- is_repeated_guest: integer (nullable = true)\n",
            " |-- previous_cancellations: integer (nullable = true)\n",
            " |-- previous_bookings_not_canceled: integer (nullable = true)\n",
            " |-- reserved_room_type: string (nullable = true)\n",
            " |-- assigned_room_type: string (nullable = true)\n",
            " |-- booking_changes: integer (nullable = true)\n",
            " |-- deposit_type: string (nullable = true)\n",
            " |-- agent: double (nullable = true)\n",
            " |-- company: double (nullable = true)\n",
            " |-- days_in_waiting_list: integer (nullable = true)\n",
            " |-- customer_type: string (nullable = true)\n",
            " |-- adr: double (nullable = true)\n",
            " |-- required_car_parking_spaces: integer (nullable = true)\n",
            " |-- total_of_special_requests: integer (nullable = true)\n",
            "\n",
            "+---+-----------------+-----------+---------+-----------------+------------------+------------------------+-------------------------+-----------------------+--------------------+------+--------+------+----+-------+--------------------+-----------------+----------------------+------------------------------+------------------+------------------+---------------+------------+-----+-------+--------------------+-------------+----+---------------------------+-------------------------+\n",
            "|_c0|            hotel|is_canceled|lead_time|arrival_date_year|arrival_date_month|arrival_date_week_number|arrival_date_day_of_month|stays_in_weekend_nights|stays_in_week_nights|adults|children|babies|meal|country|distribution_channel|is_repeated_guest|previous_cancellations|previous_bookings_not_canceled|reserved_room_type|assigned_room_type|booking_changes|deposit_type|agent|company|days_in_waiting_list|customer_type| adr|required_car_parking_spaces|total_of_special_requests|\n",
            "+---+-----------------+-----------+---------+-----------------+------------------+------------------------+-------------------------+-----------------------+--------------------+------+--------+------+----+-------+--------------------+-----------------+----------------------+------------------------------+------------------+------------------+---------------+------------+-----+-------+--------------------+-------------+----+---------------------------+-------------------------+\n",
            "|  0|Renaissance Hotel|          0|      342|             2018|              July|                      27|                        1|                      0|                   0|     2|     0.0|     0|  BB|    PRT|              Direct|                0|                     0|                             0|                 C|                 C|              3|  No Deposit| NULL|   NULL|                   0|    Transient| 0.0|                          0|                        0|\n",
            "|  1|Renaissance Hotel|          0|      737|             2018|              July|                      27|                        1|                      0|                   0|     2|     0.0|     0|  BB|    PRT|              Direct|                0|                     0|                             0|                 C|                 C|              4|  No Deposit| NULL|   NULL|                   0|    Transient| 0.0|                          0|                        0|\n",
            "|  2|Renaissance Hotel|          0|        7|             2018|              July|                      27|                        1|                      0|                   1|     1|     0.0|     0|  BB|    GBR|              Direct|                0|                     0|                             0|                 A|                 C|              0|  No Deposit| NULL|   NULL|                   0|    Transient|75.0|                          0|                        0|\n",
            "|  3|Renaissance Hotel|          0|       13|             2018|              July|                      27|                        1|                      0|                   1|     1|     0.0|     0|  BB|    GBR|           Corporate|                0|                     0|                             0|                 A|                 A|              0|  No Deposit|304.0|   NULL|                   0|    Transient|75.0|                          0|                        0|\n",
            "|  4|Renaissance Hotel|          0|       14|             2018|              July|                      27|                        1|                      0|                   2|     2|     0.0|     0|  BB|    GBR|               TA/TO|                0|                     0|                             0|                 A|                 A|              0|  No Deposit|240.0|   NULL|                   0|    Transient|98.0|                          0|                        1|\n",
            "+---+-----------------+-----------+---------+-----------------+------------------+------------------------+-------------------------+-----------------------+--------------------+------+--------+------+----+-------+--------------------+-----------------+----------------------+------------------------------+------------------+------------------+---------------+------------+-----+-------+--------------------+-------------+----+---------------------------+-------------------------+\n",
            "only showing top 5 rows\n",
            "\n"
          ]
        }
      ]
    },
    {
      "cell_type": "markdown",
      "source": [
        "2. Preprocessing with DataFrame API\n",
        "\n",
        "Explored the data using .describe() and value counts (groupBy(\"country\").count()).\n",
        "\n",
        "Dropped duplicate rows to eliminate redundancy.\n",
        "\n",
        "Dropped rows with missing critical values: hotel, is_canceled, lead_time, and country.\n",
        "\n",
        "Filled missing values in the children and babies columns with 0 to ensure accurate guest counts.\n",
        "\n",
        "Identified and removed rows containing invalid (negative) values in adults, children, babies, and adr columns.\n",
        "\n",
        "Detected and removed ambiguous categorical values in the meal column (specifically those labeled as \"Undefined\").\n",
        "\n",
        "Dropped unused columns: agent, company, and days_in_waiting_list to simplify the dataset.\n",
        "\n",
        "Created derived columns:\n",
        "\n",
        "total_stay_duration: sum of weekday and weekend nights.\n",
        "\n",
        "total_guests: sum of adults and babies (children handled via fill).\n",
        "\n",
        "season: assigned based on arrival_date_month using conditional logic.\n",
        "\n",
        "Registered the cleaned and transformed DataFrame as a temporary SQL view named \"bookings\" for use in SparkSQL queries."
      ],
      "metadata": {
        "id": "5hcqHp5MOh-0"
      }
    },
    {
      "cell_type": "code",
      "source": [
        "from pyspark.sql.functions import col, when, isnan, count, sum as Fsum, expr, concat_ws, lit\n",
        "\n",
        "# (a) Explore the data well and clean any noise\n",
        "df.describe().show()\n",
        "df.groupBy(\"country\").count().orderBy(\"count\", ascending=False).show(5)\n",
        "\n",
        "# (b) Handle duplicates and missing values appropriately\n",
        "df = df.dropDuplicates()\n",
        "df = df.dropna(subset=[\"hotel\", \"is_canceled\", \"lead_time\", \"country\"])\n",
        "df = df.fillna({\"children\": 0, \"babies\": 0})\n",
        "\n",
        "# Remove invalid or suspicious data\n",
        "df.filter((col(\"adults\") < 0) | (col(\"children\") < 0) | (col(\"babies\") < 0) | (col(\"adr\") < 0)).show()\n",
        "df = df.filter((col(\"adults\") >= 0) &\n",
        "               (col(\"children\") >= 0) &\n",
        "               (col(\"babies\") >= 0) &\n",
        "               (col(\"adr\") >= 0))\n",
        "\n",
        "# Handle ambiguous or undefined categorical values\n",
        "df.filter(col(\"meal\") == \"Undefined\").show()\n",
        "df = df.filter(col(\"meal\") != \"Undefined\")\n",
        "\n",
        "# Drop unused columns\n",
        "df = df.drop(\"agent\", \"company\", \"days_in_waiting_list\")\n",
        "\n",
        "# (c) Create new derived columns: Total stay duration, Season and Total guests\n",
        "df = df.withColumn(\"total_stay_duration\", col(\"stays_in_weekend_nights\") + col(\"stays_in_week_nights\")) \\\n",
        "       .withColumn(\"total_guests\", col(\"adults\") + col(\"babies\")) \\\n",
        "       .withColumn(\"season\", when(col(\"arrival_date_month\").isin(\"December\", \"January\", \"February\"), \"Winter\")\n",
        "                   .when(col(\"arrival_date_month\").isin(\"March\", \"April\", \"May\"), \"Spring\")\n",
        "                   .when(col(\"arrival_date_month\").isin(\"June\", \"July\", \"August\"), \"Summer\")\n",
        "                   .otherwise(\"Fall\"))\n",
        "\n",
        "# Register the DataFrame as a temporary SQL view for SparkSQL queries\n",
        "df.createOrReplaceTempView(\"bookings\")"
      ],
      "metadata": {
        "colab": {
          "base_uri": "https://localhost:8080/"
        },
        "id": "jEM0-lW1Oahv",
        "outputId": "4c84d792-3468-437c-8385-62f0929b5e25"
      },
      "execution_count": 60,
      "outputs": [
        {
          "output_type": "stream",
          "name": "stdout",
          "text": [
            "+-------+------------------+-----------------+-------------------+------------------+------------------+------------------+------------------------+-------------------------+-----------------------+--------------------+------------------+-------------------+--------------------+------+-------+--------------------+-------------------+----------------------+------------------------------+------------------+------------------+-------------------+------------+---------------+------------------+---------------------------+-------------------------+-------------------+------------------+------+\n",
            "|summary|               _c0|            hotel|        is_canceled|         lead_time| arrival_date_year|arrival_date_month|arrival_date_week_number|arrival_date_day_of_month|stays_in_weekend_nights|stays_in_week_nights|            adults|           children|              babies|  meal|country|distribution_channel|  is_repeated_guest|previous_cancellations|previous_bookings_not_canceled|reserved_room_type|assigned_room_type|    booking_changes|deposit_type|  customer_type|               adr|required_car_parking_spaces|total_of_special_requests|total_stay_duration|      total_guests|season|\n",
            "+-------+------------------+-----------------+-------------------+------------------+------------------+------------------+------------------------+-------------------------+-----------------------+--------------------+------------------+-------------------+--------------------+------+-------+--------------------+-------------------+----------------------+------------------------------+------------------+------------------+-------------------+------------+---------------+------------------+---------------------------+-------------------------+-------------------+------------------+------+\n",
            "|  count|            117736|           117736|             117736|            117736|            117736|            117736|                  117736|                   117736|                 117736|              117736|            117736|             117736|              117736|117736| 117736|              117736|             117736|                117736|                        117736|            117736|            117736|             117736|      117736|         117736|            117736|                     117736|                   117736|             117736|            117736|117736|\n",
            "|   mean|60259.921570292856|             NULL| 0.3726217979207719|104.47338961744921|2018.1330179384386|              NULL|       27.20371848882245|       15.790947543656996|     0.9266664401712306|  2.4959910307807296|1.8587347964938505|0.10475980158999797|0.007890534755724671|  NULL|   NULL|                NULL|0.03204627301759869|   0.08735645851736087|           0.13283107970374397|              NULL|              NULL|0.21971189780525924|        NULL|           NULL|102.10132508323487|        0.06212203574097982|       0.5756523068560169|   3.42265747095196|1.8666253312495753|  NULL|\n",
            "| stddev| 34345.84946423226|             NULL|0.48350468377935135|107.16700002727413|0.8933430474157845|              NULL|      13.531527813749298|        8.778390517422626|     0.9954021706478403|   1.896516102740192| 0.579563607297495| 0.4002366120499859| 0.09717064575703778|  NULL|   NULL|                NULL|  0.176123743062849|    0.8496352009681329|            1.4918804741281775|              NULL|              NULL| 0.6525916373507514|        NULL|           NULL|50.435409954356246|        0.24462870307110338|       0.7940523211069371| 2.5401213709223156|0.5893450788831205|  NULL|\n",
            "|    min|                 0|JW Marriott Hotel|                  0|                 0|              2017|             April|                       1|                        1|                      0|                   0|                 0|                0.0|                   0|    BB|    ABW|           Corporate|                  0|                     0|                             0|                 A|                 A|                  0|  No Deposit|       Contract|               0.0|                          0|                        0|                  0|                 0|  Fall|\n",
            "|    max|            119389|Renaissance Hotel|                  1|               737|              2019|         September|                      53|                       31|                     16|                  41|                55|               10.0|                  10|    SC|    ZWE|           Undefined|                  1|                    26|                            72|                 P|                 P|                 21|  Refundable|Transient-Party|            5400.0|                          8|                        5|                 57|                55|Winter|\n",
            "+-------+------------------+-----------------+-------------------+------------------+------------------+------------------+------------------------+-------------------------+-----------------------+--------------------+------------------+-------------------+--------------------+------+-------+--------------------+-------------------+----------------------+------------------------------+------------------+------------------+-------------------+------------+---------------+------------------+---------------------------+-------------------------+-------------------+------------------+------+\n",
            "\n",
            "+-------+-----+\n",
            "|country|count|\n",
            "+-------+-----+\n",
            "|    PRT|47891|\n",
            "|    GBR|12108|\n",
            "|    FRA|10324|\n",
            "|    ESP| 8271|\n",
            "|    DEU| 7286|\n",
            "+-------+-----+\n",
            "only showing top 5 rows\n",
            "\n",
            "+---+-----+-----------+---------+-----------------+------------------+------------------------+-------------------------+-----------------------+--------------------+------+--------+------+----+-------+--------------------+-----------------+----------------------+------------------------------+------------------+------------------+---------------+------------+-------------+---+---------------------------+-------------------------+-------------------+------------+------+\n",
            "|_c0|hotel|is_canceled|lead_time|arrival_date_year|arrival_date_month|arrival_date_week_number|arrival_date_day_of_month|stays_in_weekend_nights|stays_in_week_nights|adults|children|babies|meal|country|distribution_channel|is_repeated_guest|previous_cancellations|previous_bookings_not_canceled|reserved_room_type|assigned_room_type|booking_changes|deposit_type|customer_type|adr|required_car_parking_spaces|total_of_special_requests|total_stay_duration|total_guests|season|\n",
            "+---+-----+-----------+---------+-----------------+------------------+------------------------+-------------------------+-----------------------+--------------------+------+--------+------+----+-------+--------------------+-----------------+----------------------+------------------------------+------------------+------------------+---------------+------------+-------------+---+---------------------------+-------------------------+-------------------+------------+------+\n",
            "+---+-----+-----------+---------+-----------------+------------------+------------------------+-------------------------+-----------------------+--------------------+------+--------+------+----+-------+--------------------+-----------------+----------------------+------------------------------+------------------+------------------+---------------+------------+-------------+---+---------------------------+-------------------------+-------------------+------------+------+\n",
            "\n",
            "+---+-----+-----------+---------+-----------------+------------------+------------------------+-------------------------+-----------------------+--------------------+------+--------+------+----+-------+--------------------+-----------------+----------------------+------------------------------+------------------+------------------+---------------+------------+-------------+---+---------------------------+-------------------------+-------------------+------------+------+\n",
            "|_c0|hotel|is_canceled|lead_time|arrival_date_year|arrival_date_month|arrival_date_week_number|arrival_date_day_of_month|stays_in_weekend_nights|stays_in_week_nights|adults|children|babies|meal|country|distribution_channel|is_repeated_guest|previous_cancellations|previous_bookings_not_canceled|reserved_room_type|assigned_room_type|booking_changes|deposit_type|customer_type|adr|required_car_parking_spaces|total_of_special_requests|total_stay_duration|total_guests|season|\n",
            "+---+-----+-----------+---------+-----------------+------------------+------------------------+-------------------------+-----------------------+--------------------+------+--------+------+----+-------+--------------------+-----------------+----------------------+------------------------------+------------------+------------------+---------------+------------+-------------+---+---------------------------+-------------------------+-------------------+------------+------+\n",
            "+---+-----+-----------+---------+-----------------+------------------+------------------------+-------------------------+-----------------------+--------------------+------+--------+------+----+-------+--------------------+-----------------+----------------------+------------------------------+------------------+------------------+---------------+------------+-------------+---+---------------------------+-------------------------+-------------------+------------+------+\n",
            "\n"
          ]
        }
      ]
    },
    {
      "cell_type": "markdown",
      "source": [
        " 3. Implement Queries Twice: SparkSQL & DataFrame API\n",
        "\n",
        " a) Compute the cancellation rate as (number of cancellations / total bookings)*100 per country, and list the top five countries have the highest cancellation rates."
      ],
      "metadata": {
        "id": "UpqlLmDFREXH"
      }
    },
    {
      "cell_type": "code",
      "source": [
        "#SparkSQL:\n",
        "\n",
        "spark.sql(\"\"\"\n",
        "    SELECT country,\n",
        "           ROUND((SUM(is_canceled) / COUNT(*)) * 100, 2) AS cancellation_rate\n",
        "    FROM bookings\n",
        "    GROUP BY country\n",
        "    ORDER BY cancellation_rate DESC\n",
        "    LIMIT 5\n",
        "\"\"\").show()"
      ],
      "metadata": {
        "colab": {
          "base_uri": "https://localhost:8080/"
        },
        "id": "_PS_GEWGRI8e",
        "outputId": "6eac1199-1eaf-458e-ff32-0b7e7066d89e"
      },
      "execution_count": 61,
      "outputs": [
        {
          "output_type": "stream",
          "name": "stdout",
          "text": [
            "+-------+-----------------+\n",
            "|country|cancellation_rate|\n",
            "+-------+-----------------+\n",
            "|    GGY|            100.0|\n",
            "|    MYT|            100.0|\n",
            "|    FJI|            100.0|\n",
            "|    IMN|            100.0|\n",
            "|    NIC|            100.0|\n",
            "+-------+-----------------+\n",
            "\n"
          ]
        }
      ]
    },
    {
      "cell_type": "code",
      "source": [
        "#DataFrame API:\n",
        "\n",
        "df.groupBy(\"country\") \\\n",
        "  .agg((Fsum(\"is_canceled\") / count(\"*\") * 100).alias(\"cancellation_rate\")) \\\n",
        "  .orderBy(\"cancellation_rate\", ascending=False) \\\n",
        "  .show(5)"
      ],
      "metadata": {
        "colab": {
          "base_uri": "https://localhost:8080/"
        },
        "id": "uJ51AAGnUSHN",
        "outputId": "d8c71af8-0c99-4cbc-8fdc-1c29b204112f"
      },
      "execution_count": 62,
      "outputs": [
        {
          "output_type": "stream",
          "name": "stdout",
          "text": [
            "+-------+-----------------+\n",
            "|country|cancellation_rate|\n",
            "+-------+-----------------+\n",
            "|    MYT|            100.0|\n",
            "|    UMI|            100.0|\n",
            "|    GGY|            100.0|\n",
            "|    VGB|            100.0|\n",
            "|    JEY|            100.0|\n",
            "+-------+-----------------+\n",
            "only showing top 5 rows\n",
            "\n"
          ]
        }
      ]
    },
    {
      "cell_type": "markdown",
      "source": [
        "The top five countries all show a 100% cancellation rate, likely due to very few bookings from each.\n",
        "\n",
        "\n",
        "\n",
        "---\n",
        "\n"
      ],
      "metadata": {
        "id": "1B1yF84WjyHw"
      }
    },
    {
      "cell_type": "markdown",
      "source": [
        "B) Identify which season (Winter, Spring, Summer, Fall) has the highest cancellation rate for bookings with lead time > 100 days. (Define seasons based on arrival_date_month)"
      ],
      "metadata": {
        "id": "YOk-TOPfUqT3"
      }
    },
    {
      "cell_type": "code",
      "source": [
        "#SparSQL:\n",
        "\n",
        "spark.sql(\"\"\"\n",
        "    SELECT season,\n",
        "           ROUND((SUM(is_canceled) / COUNT(*)) * 100, 2) AS cancel_rate\n",
        "    FROM bookings\n",
        "    WHERE lead_time > 100\n",
        "    GROUP BY season\n",
        "    ORDER BY cancel_rate DESC\n",
        "    LIMIT 1\n",
        "\"\"\").show()"
      ],
      "metadata": {
        "colab": {
          "base_uri": "https://localhost:8080/"
        },
        "id": "jv-JDTCoUxc5",
        "outputId": "7f8e7675-f1ff-46fb-bacb-3ddd38d2506c"
      },
      "execution_count": 50,
      "outputs": [
        {
          "output_type": "stream",
          "name": "stdout",
          "text": [
            "+------+-----------+\n",
            "|season|cancel_rate|\n",
            "+------+-----------+\n",
            "|Winter|      60.57|\n",
            "+------+-----------+\n",
            "\n"
          ]
        }
      ]
    },
    {
      "cell_type": "code",
      "source": [
        "#DataFrame API:\n",
        "df.filter(col(\"lead_time\") > 100) \\\n",
        "  .groupBy(\"season\") \\\n",
        "  .agg((Fsum(\"is_canceled\") / count(\"*\") * 100).alias(\"cancel_rate\")) \\\n",
        "  .orderBy(\"cancel_rate\", ascending=False) \\\n",
        "  .show(1)"
      ],
      "metadata": {
        "colab": {
          "base_uri": "https://localhost:8080/"
        },
        "id": "WORlx3eVU627",
        "outputId": "a5053145-43b3-434d-cfb6-ab230b57701c"
      },
      "execution_count": 51,
      "outputs": [
        {
          "output_type": "stream",
          "name": "stdout",
          "text": [
            "+------+-----------------+\n",
            "|season|      cancel_rate|\n",
            "+------+-----------------+\n",
            "|Winter|60.57494866529775|\n",
            "+------+-----------------+\n",
            "only showing top 1 row\n",
            "\n"
          ]
        }
      ]
    },
    {
      "cell_type": "markdown",
      "source": [
        "Winter has the highest cancellation rate (60.57%) for bookings made well in advance, indicating a stronger tendency to cancel during this season.\n",
        "\n",
        "\n",
        "---\n",
        "\n"
      ],
      "metadata": {
        "id": "zn2ynJkNj_vW"
      }
    },
    {
      "cell_type": "markdown",
      "source": [
        "c) Which reserved room types experience the highest mismatch with the assigned room type?\n",
        "(Where they differ)."
      ],
      "metadata": {
        "id": "-E57F2tiWOlk"
      }
    },
    {
      "cell_type": "code",
      "source": [
        "#SparkSQL:\n",
        "\n",
        "spark.sql(\"\"\"\n",
        "    SELECT reserved_room_type, assigned_room_type, COUNT(*) AS mismatches\n",
        "    FROM bookings\n",
        "    WHERE reserved_room_type != assigned_room_type\n",
        "    GROUP BY reserved_room_type, assigned_room_type\n",
        "    ORDER BY mismatches DESC\n",
        "\"\"\").show()"
      ],
      "metadata": {
        "colab": {
          "base_uri": "https://localhost:8080/"
        },
        "id": "JlfQEUufWGs_",
        "outputId": "124b6e18-9a3f-4a55-ec04-2d3dfa37cbc4"
      },
      "execution_count": 52,
      "outputs": [
        {
          "output_type": "stream",
          "name": "stdout",
          "text": [
            "+------------------+------------------+----------+\n",
            "|reserved_room_type|assigned_room_type|mismatches|\n",
            "+------------------+------------------+----------+\n",
            "|                 A|                 D|      7360|\n",
            "|                 A|                 C|      1347|\n",
            "|                 A|                 B|      1120|\n",
            "|                 A|                 E|      1092|\n",
            "|                 D|                 E|       680|\n",
            "|                 A|                 F|       401|\n",
            "|                 E|                 F|       395|\n",
            "|                 D|                 A|       312|\n",
            "|                 A|                 K|       210|\n",
            "|                 A|                 I|       209|\n",
            "|                 D|                 F|       202|\n",
            "|                 A|                 G|       182|\n",
            "|                 F|                 G|       115|\n",
            "|                 B|                 A|       111|\n",
            "|                 E|                 G|       100|\n",
            "|                 A|                 H|        89|\n",
            "|                 D|                 G|        81|\n",
            "|                 D|                 I|        67|\n",
            "|                 D|                 K|        44|\n",
            "|                 E|                 I|        39|\n",
            "+------------------+------------------+----------+\n",
            "only showing top 20 rows\n",
            "\n"
          ]
        }
      ]
    },
    {
      "cell_type": "code",
      "source": [
        "#DataFrame API:\n",
        "\n",
        "df.filter(col(\"reserved_room_type\") != col(\"assigned_room_type\")) \\\n",
        "  .groupBy(\"reserved_room_type\", \"assigned_room_type\") \\\n",
        "  .count() \\\n",
        "  .orderBy(\"count\", ascending=False) \\\n",
        "  .show()"
      ],
      "metadata": {
        "colab": {
          "base_uri": "https://localhost:8080/"
        },
        "id": "NLCVswhXWYpn",
        "outputId": "862766a4-c680-4ad2-8006-c1eeb971949f"
      },
      "execution_count": 53,
      "outputs": [
        {
          "output_type": "stream",
          "name": "stdout",
          "text": [
            "+------------------+------------------+-----+\n",
            "|reserved_room_type|assigned_room_type|count|\n",
            "+------------------+------------------+-----+\n",
            "|                 A|                 D| 7360|\n",
            "|                 A|                 C| 1347|\n",
            "|                 A|                 B| 1120|\n",
            "|                 A|                 E| 1092|\n",
            "|                 D|                 E|  680|\n",
            "|                 A|                 F|  401|\n",
            "|                 E|                 F|  395|\n",
            "|                 D|                 A|  312|\n",
            "|                 A|                 K|  210|\n",
            "|                 A|                 I|  209|\n",
            "|                 D|                 F|  202|\n",
            "|                 A|                 G|  182|\n",
            "|                 F|                 G|  115|\n",
            "|                 B|                 A|  111|\n",
            "|                 E|                 G|  100|\n",
            "|                 A|                 H|   89|\n",
            "|                 D|                 G|   81|\n",
            "|                 D|                 I|   67|\n",
            "|                 D|                 K|   44|\n",
            "|                 E|                 I|   39|\n",
            "+------------------+------------------+-----+\n",
            "only showing top 20 rows\n",
            "\n"
          ]
        }
      ]
    },
    {
      "cell_type": "markdown",
      "source": [
        "The most common mismatch is from reserved type 'A' to assigned type 'D', indicating frequent overbooking or reallocation of standard rooms.\n",
        "\n",
        "\n",
        "---\n",
        "\n"
      ],
      "metadata": {
        "id": "7AUq-a7YkH80"
      }
    },
    {
      "cell_type": "markdown",
      "source": [
        "d) Which distribution channel shows the lowest cancellation rate and what is its average revenue per booking (ADR x total nights)?"
      ],
      "metadata": {
        "id": "Erd8uaocWthI"
      }
    },
    {
      "cell_type": "code",
      "source": [
        "#SparkSQL:\n",
        "\n",
        "spark.sql(\"\"\"\n",
        "    SELECT distribution_channel,\n",
        "           ROUND((SUM(is_canceled) / COUNT(*)) * 100, 2) AS cancel_rate,\n",
        "           ROUND(AVG(adr * total_stay_duration), 2) AS avg_revenue\n",
        "    FROM bookings\n",
        "    GROUP BY distribution_channel\n",
        "    ORDER BY cancel_rate ASC\n",
        "    LIMIT 1\n",
        "\"\"\").show()"
      ],
      "metadata": {
        "colab": {
          "base_uri": "https://localhost:8080/"
        },
        "id": "fnKCDD8XWyes",
        "outputId": "d7cc25af-4728-4fbd-ea92-f253581ccdf4"
      },
      "execution_count": 54,
      "outputs": [
        {
          "output_type": "stream",
          "name": "stdout",
          "text": [
            "+--------------------+-----------+-----------+\n",
            "|distribution_channel|cancel_rate|avg_revenue|\n",
            "+--------------------+-----------+-----------+\n",
            "|              Direct|       17.6|      371.5|\n",
            "+--------------------+-----------+-----------+\n",
            "\n"
          ]
        }
      ]
    },
    {
      "cell_type": "code",
      "source": [
        "#DataFrame API:\n",
        "\n",
        "df.groupBy(\"distribution_channel\") \\\n",
        "  .agg((Fsum(\"is_canceled\") / count(\"*\") * 100).alias(\"cancel_rate\"),\n",
        "       expr(\"avg(adr * total_stay_duration)\").alias(\"avg_revenue\")) \\\n",
        "  .orderBy(\"cancel_rate\") \\\n",
        "  .show(1)"
      ],
      "metadata": {
        "colab": {
          "base_uri": "https://localhost:8080/"
        },
        "id": "MT1cvKCQW67a",
        "outputId": "560b1c57-7ec9-446b-b9b6-f72d56e807ca"
      },
      "execution_count": 55,
      "outputs": [
        {
          "output_type": "stream",
          "name": "stdout",
          "text": [
            "+--------------------+-----------------+------------------+\n",
            "|distribution_channel|      cancel_rate|       avg_revenue|\n",
            "+--------------------+-----------------+------------------+\n",
            "|              Direct|17.60360233588968|371.49672694012526|\n",
            "+--------------------+-----------------+------------------+\n",
            "only showing top 1 row\n",
            "\n"
          ]
        }
      ]
    },
    {
      "cell_type": "markdown",
      "source": [
        "The Direct distribution channel has the lowest cancellation rate (17.6%) and the highest average revenue, making it the most reliable and profitable booking method.\n",
        "\n",
        "\n",
        "---\n",
        "\n"
      ],
      "metadata": {
        "id": "Ae5JdPGCkZxd"
      }
    },
    {
      "cell_type": "markdown",
      "source": [
        "e) Which meal types are most common among bookings with more than 3 total guests?"
      ],
      "metadata": {
        "id": "tan0RT_lXDUl"
      }
    },
    {
      "cell_type": "code",
      "source": [
        "#SparkSQL:\n",
        "\n",
        "spark.sql(\"\"\"\n",
        "    SELECT meal, COUNT(*) AS count\n",
        "    FROM bookings\n",
        "    WHERE total_guests > 3\n",
        "    GROUP BY meal\n",
        "    ORDER BY count DESC\n",
        "\"\"\").show()"
      ],
      "metadata": {
        "colab": {
          "base_uri": "https://localhost:8080/"
        },
        "id": "BlFEE6YtXF_L",
        "outputId": "2efba17c-f781-4001-9396-0140a2b1895f"
      },
      "execution_count": 56,
      "outputs": [
        {
          "output_type": "stream",
          "name": "stdout",
          "text": [
            "+----+-----+\n",
            "|meal|count|\n",
            "+----+-----+\n",
            "|  BB|   91|\n",
            "|  HB|   14|\n",
            "|  FB|    1|\n",
            "+----+-----+\n",
            "\n"
          ]
        }
      ]
    },
    {
      "cell_type": "code",
      "source": [
        "#DataFrame API:\n",
        "\n",
        "df.filter(col(\"total_guests\") > 3) \\\n",
        "  .groupBy(\"meal\") \\\n",
        "  .count() \\\n",
        "  .orderBy(\"count\", ascending=False) \\\n",
        "  .show()"
      ],
      "metadata": {
        "colab": {
          "base_uri": "https://localhost:8080/"
        },
        "id": "yKyF6VUFXMTo",
        "outputId": "017452a6-bd8d-41a3-937c-bcec3cf49a95"
      },
      "execution_count": 57,
      "outputs": [
        {
          "output_type": "stream",
          "name": "stdout",
          "text": [
            "+----+-----+\n",
            "|meal|count|\n",
            "+----+-----+\n",
            "|  BB|   91|\n",
            "|  HB|   14|\n",
            "|  FB|    1|\n",
            "+----+-----+\n",
            "\n"
          ]
        }
      ]
    },
    {
      "cell_type": "markdown",
      "source": [
        "For bookings with more than 3 guests, the most commonly selected meal type is BB (Bed & Breakfast), indicating a clear preference for simpler meal plans among larger groups.\n",
        "\n",
        "\n",
        "---\n",
        "\n"
      ],
      "metadata": {
        "id": "8JoslV4hkqzd"
      }
    },
    {
      "cell_type": "markdown",
      "source": [
        "Bonus: Relation between lead time and cancellation status using a boxplot chart"
      ],
      "metadata": {
        "id": "foe86EFnXZuP"
      }
    },
    {
      "cell_type": "code",
      "source": [
        "import matplotlib.pyplot as plt\n",
        "import seaborn as sns\n",
        "import pandas as pd\n",
        "\n",
        "# Sample the data to reduce size for plotting\n",
        "sample_df = df.select(\"lead_time\", \"is_canceled\").sample(False, 0.05).toPandas()\n",
        "\n",
        "# Convert cancellation to labeled form for clarity\n",
        "sample_df[\"Cancellation Status\"] = sample_df[\"is_canceled\"].map({0: \"Not Cancelled\", 1: \"Cancelled\"})\n",
        "\n",
        "# Plot\n",
        "plt.figure(figsize=(10, 6))\n",
        "sns.boxplot(x=\"Cancellation Status\", y=\"lead_time\", data=sample_df)\n",
        "plt.xlabel(\"Cancellation Status\")\n",
        "plt.ylabel(\"Lead Time (days)\")\n",
        "plt.title(\"Boxplot of Lead Time by Cancellation Status\")\n",
        "plt.grid(True)\n",
        "plt.show()"
      ],
      "metadata": {
        "colab": {
          "base_uri": "https://localhost:8080/",
          "height": 564
        },
        "id": "gTSChkkvXa1R",
        "outputId": "1598871b-4558-4ac7-d6f4-6a835e36ff04"
      },
      "execution_count": 59,
      "outputs": [
        {
          "output_type": "display_data",
          "data": {
            "text/plain": [
              "<Figure size 1000x600 with 1 Axes>"
            ],
            "image/png": "[encoded data removed]"
          },
          "metadata": {}
        }
      ]
    },
    {
      "cell_type": "markdown",
      "source": [
        "**Trend Desciption:**\n",
        "\n",
        "The boxplot clearly shows that cancelled bookings tend to have significantly higher lead times on average compared to non-cancelled bookings, indicating a strong association between longer lead times and likelihood of cancellation.\n"
      ],
      "metadata": {
        "id": "t0pHgu0cXto8"
      }
    }
  ]
}